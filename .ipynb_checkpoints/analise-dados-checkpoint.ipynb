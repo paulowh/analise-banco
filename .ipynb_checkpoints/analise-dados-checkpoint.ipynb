{
 "cells": [
  {
   "cell_type": "code",
   "execution_count": null,
   "id": "e36355dc",
   "metadata": {},
   "outputs": [],
   "source": [
    "import pandas as pd\n",
    "import glob\n",
    "from getpass import getpass\n",
    "\n",
    "confirmacao = False\n",
    "cont = 0\n",
    "\n",
    "all_files = glob.glob(\"file_name*.csv\")\n",
    "\n",
    "li = []\n",
    "\n",
    "#for filename in all_files:\n",
    "#    new = pd.read_csv(filename, index_col=0, header=0)\n",
    "#    li.append(new)\n",
    "\n",
    "#frame = pd.concat(li, axis=1, ignore_index=True)\n",
    "\n",
    "while confirmacao != True:\n",
    "\n",
    "\n",
    "    usuario = input(\"Usuario: \")\n",
    "    senha = getpass(\"Digite sua senha: \") #esconde a senha digitada\n",
    "    if usuario == \"admin\" and senha == \"admin\":\n",
    "        print(\"Acesso Permitido\")\n",
    "        print(\"\")\n",
    "        confirmacao = True\n",
    "    elif usuario != \"admin\" or senha != \"admin\":\n",
    "        print(\"usuario ou senha incorreto\")\n",
    "        print(\"\")\n",
    "        cont += 1\n",
    "    if cont == 3:\n",
    "        print(\"Acesso bloquado, tente novamente mais tarde\")\n",
    "        break\n",
    "\n",
    "if confirmacao == True:\n",
    "    print(\"Seja bem vindo ao controle de estoque da H.F.A\")\n",
    "   \n"
   ]
  },
  {
   "cell_type": "code",
   "execution_count": 4,
   "id": "dbc284a0",
   "metadata": {},
   "outputs": [
    {
     "name": "stdout",
     "output_type": "stream",
     "text": [
      "Seja bem vindo ao controle de estoque da H.F.A\n"
     ]
    },
    {
     "data": {
      "text/html": [
       "<div>\n",
       "<style scoped>\n",
       "    .dataframe tbody tr th:only-of-type {\n",
       "        vertical-align: middle;\n",
       "    }\n",
       "\n",
       "    .dataframe tbody tr th {\n",
       "        vertical-align: top;\n",
       "    }\n",
       "\n",
       "    .dataframe thead th {\n",
       "        text-align: right;\n",
       "    }\n",
       "</style>\n",
       "<table border=\"1\" class=\"dataframe\">\n",
       "  <thead>\n",
       "    <tr style=\"text-align: right;\">\n",
       "      <th></th>\n",
       "      <th>Produto</th>\n",
       "      <th>Quant</th>\n",
       "      <th>18/11</th>\n",
       "    </tr>\n",
       "  </thead>\n",
       "  <tbody>\n",
       "    <tr>\n",
       "      <th>0</th>\n",
       "      <td>ola</td>\n",
       "      <td>teste</td>\n",
       "      <td>teste</td>\n",
       "    </tr>\n",
       "  </tbody>\n",
       "</table>\n",
       "</div>"
      ],
      "text/plain": [
       "  Produto  Quant  18/11\n",
       "0     ola  teste  teste"
      ]
     },
     "execution_count": 4,
     "metadata": {},
     "output_type": "execute_result"
    }
   ],
   "source": [
    "import pandas as pd\n",
    "import glob\n",
    "from getpass import getpass\n",
    "\n",
    "print(\"Seja bem vindo ao controle de estoque da H.F.A\")\n",
    "\n",
    "ts_nome = \"ts\"\n",
    "continuar = True\n",
    "while continuar == True:\n",
    "    prod.append(input(\"prod: \"))\n",
    "    data.append(input(\"data: \"))\n",
    "    quant.append(input(\"quant: \"))\n",
    "\n",
    "    escolha = input(\"Desenha continuar: (s/n)\")\n",
    "    if escolha == \"n\":\n",
    "        continuar = False\n",
    "        break\n",
    "    else:\n",
    "        continuar = True\n",
    "\n",
    "#df1 = pd.DataFrame(frame)\n",
    "#df1.to_csv('file_name.csv',header=True,)\n",
    "d = {'Produto':prod,'Quant':quant, '18/11':data} # dicionário\n",
    "\n",
    "df = pd.DataFrame(d)\n",
    "df.to_csv('banco.csv')\n",
    "df"
   ]
  },
  {
   "cell_type": "code",
   "execution_count": null,
   "id": "00a39bed",
   "metadata": {},
   "outputs": [],
   "source": []
  },
  {
   "cell_type": "code",
   "execution_count": 5,
   "id": "b2ccff40",
   "metadata": {},
   "outputs": [
    {
     "data": {
      "text/html": [
       "<div>\n",
       "<style scoped>\n",
       "    .dataframe tbody tr th:only-of-type {\n",
       "        vertical-align: middle;\n",
       "    }\n",
       "\n",
       "    .dataframe tbody tr th {\n",
       "        vertical-align: top;\n",
       "    }\n",
       "\n",
       "    .dataframe thead th {\n",
       "        text-align: right;\n",
       "    }\n",
       "</style>\n",
       "<table border=\"1\" class=\"dataframe\">\n",
       "  <thead>\n",
       "    <tr style=\"text-align: right;\">\n",
       "      <th></th>\n",
       "      <th>Produto</th>\n",
       "      <th>Quant</th>\n",
       "      <th>18/11</th>\n",
       "    </tr>\n",
       "  </thead>\n",
       "  <tbody>\n",
       "    <tr>\n",
       "      <th>0</th>\n",
       "      <td>ola</td>\n",
       "      <td>teste</td>\n",
       "      <td>teste</td>\n",
       "    </tr>\n",
       "  </tbody>\n",
       "</table>\n",
       "</div>"
      ],
      "text/plain": [
       "  Produto  Quant  18/11\n",
       "0     ola  teste  teste"
      ]
     },
     "execution_count": 5,
     "metadata": {},
     "output_type": "execute_result"
    }
   ],
   "source": [
    "df"
   ]
  },
  {
   "cell_type": "code",
   "execution_count": null,
   "id": "42623674",
   "metadata": {},
   "outputs": [],
   "source": [
    "for i in set(bc):\n",
    "    print(bc[i])"
   ]
  },
  {
   "cell_type": "code",
   "execution_count": null,
   "id": "43c75092",
   "metadata": {},
   "outputs": [],
   "source": []
  },
  {
   "cell_type": "code",
   "execution_count": null,
   "id": "9b43e5b1",
   "metadata": {},
   "outputs": [],
   "source": []
  },
  {
   "cell_type": "code",
   "execution_count": null,
   "id": "1248ad42",
   "metadata": {},
   "outputs": [],
   "source": []
  }
 ],
 "metadata": {
  "kernelspec": {
   "display_name": "Python 3",
   "language": "python",
   "name": "python3"
  },
  "language_info": {
   "codemirror_mode": {
    "name": "ipython",
    "version": 3
   },
   "file_extension": ".py",
   "mimetype": "text/x-python",
   "name": "python",
   "nbconvert_exporter": "python",
   "pygments_lexer": "ipython3",
   "version": "3.8.8"
  },
  "widgets": {
   "application/vnd.jupyter.widget-state+json": {
    "state": {},
    "version_major": 2,
    "version_minor": 0
   }
  }
 },
 "nbformat": 4,
 "nbformat_minor": 5
}
