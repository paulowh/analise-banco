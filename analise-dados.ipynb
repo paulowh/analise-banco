{
 "cells": [
  {
   "cell_type": "code",
   "execution_count": 2,
   "id": "ab94bcb8",
   "metadata": {},
   "outputs": [],
   "source": [
    "import pandas as pd\n",
    "import glob\n",
    "from getpass import getpass\n",
    "from datetime import datetime"
   ]
  },
  {
   "cell_type": "code",
   "execution_count": 7,
   "id": "e36355dc",
   "metadata": {},
   "outputs": [
    {
     "name": "stdout",
     "output_type": "stream",
     "text": [
      "Acesso Permitido\n",
      "\n",
      "Seja bem vindo ao controle de estoque da H.F.A\n"
     ]
    }
   ],
   "source": [
    "confirmacao = False\n",
    "cont = 0\n",
    "\n",
    "while confirmacao != True:\n",
    "\n",
    "\n",
    "    usuario = input(\"Usuario: \")\n",
    "    senha = getpass(\"Digite sua senha: \") #esconde a senha digitada\n",
    "    if usuario == \"admin\" and senha == \"admin\":\n",
    "        print(\"Acesso Permitido\")\n",
    "        print(\"\")\n",
    "        confirmacao = True\n",
    "    elif usuario != \"admin\" or senha != \"admin\":\n",
    "        print(\"usuario ou senha incorreto\")\n",
    "        print(\"\")\n",
    "        cont += 1\n",
    "    if cont == 3:\n",
    "        print(\"Acesso bloquado, tente novamente mais tarde\")\n",
    "        break\n",
    "\n",
    "if confirmacao == True:\n",
    "    print(\"Seja bem vindo ao controle de estoque da H.F.A\")\n",
    "   \n"
   ]
  },
  {
   "cell_type": "code",
   "execution_count": 146,
   "id": "1e302803",
   "metadata": {},
   "outputs": [
    {
     "name": "stdout",
     "output_type": "stream",
     "text": [
      "Escolha uma opção \n",
      "\n",
      "1 - Cadastro de Produtos \n",
      "2 - Fechamento do Dia \n",
      "3 - Num Sei Ainda \n",
      "4 - Num Sei Ainda \n",
      "5 - Cadastro de Usuario\n",
      "\n",
      "Cadastro de Produtos\n"
     ]
    }
   ],
   "source": [
    "print(\"Escolha uma opção \\n\")\n",
    "print(\"1 - Cadastro de Produtos \\n2 - Fechamento do Dia \\n3 - Num Sei Ainda \\n4 - Num Sei Ainda \\n5 - Cadastro de Usuario\\n\")\n",
    "escolha = int(input())\n",
    "if escolha == 1:\n",
    "    print('Cadastro de Produtos')\n",
    "elif escolha == 2:\n",
    "    print('Fechamento do Dia')\n",
    "elif escolha == 3:\n",
    "    print('Num Sei Ainda')\n",
    "elif escolha == 4:\n",
    "    print('Num Sei Ainda')\n",
    "elif escolha == 5:\n",
    "    print('Cadastro de Usuario')"
   ]
  },
  {
   "cell_type": "code",
   "execution_count": 137,
   "id": "dbc284a0",
   "metadata": {},
   "outputs": [
    {
     "name": "stdout",
     "output_type": "stream",
     "text": [
      "Seja bem vindo ao controle de estoque da H.F.A\n"
     ]
    },
    {
     "data": {
      "text/html": [
       "<div>\n",
       "<style scoped>\n",
       "    .dataframe tbody tr th:only-of-type {\n",
       "        vertical-align: middle;\n",
       "    }\n",
       "\n",
       "    .dataframe tbody tr th {\n",
       "        vertical-align: top;\n",
       "    }\n",
       "\n",
       "    .dataframe thead th {\n",
       "        text-align: right;\n",
       "    }\n",
       "</style>\n",
       "<table border=\"1\" class=\"dataframe\">\n",
       "  <thead>\n",
       "    <tr style=\"text-align: right;\">\n",
       "      <th></th>\n",
       "      <th>Produto</th>\n",
       "      <th>Quant</th>\n",
       "      <th>21-11-2021</th>\n",
       "      <th>22-11-2021</th>\n",
       "    </tr>\n",
       "  </thead>\n",
       "  <tbody>\n",
       "    <tr>\n",
       "      <th>0</th>\n",
       "      <td>Bala</td>\n",
       "      <td>654.0</td>\n",
       "      <td>323</td>\n",
       "      <td>32.0</td>\n",
       "    </tr>\n",
       "    <tr>\n",
       "      <th>1</th>\n",
       "      <td>Pirulito</td>\n",
       "      <td>NaN</td>\n",
       "      <td>435</td>\n",
       "      <td>123.0</td>\n",
       "    </tr>\n",
       "    <tr>\n",
       "      <th>2</th>\n",
       "      <td>Salgadinho</td>\n",
       "      <td>NaN</td>\n",
       "      <td>34</td>\n",
       "      <td>321.0</td>\n",
       "    </tr>\n",
       "    <tr>\n",
       "      <th>3</th>\n",
       "      <td>Bolacha</td>\n",
       "      <td>NaN</td>\n",
       "      <td>54</td>\n",
       "      <td>645.0</td>\n",
       "    </tr>\n",
       "    <tr>\n",
       "      <th>4</th>\n",
       "      <td>Doce de Banana</td>\n",
       "      <td>NaN</td>\n",
       "      <td>76</td>\n",
       "      <td>87.0</td>\n",
       "    </tr>\n",
       "    <tr>\n",
       "      <th>5</th>\n",
       "      <td>Coca-Cola</td>\n",
       "      <td>NaN</td>\n",
       "      <td>45</td>\n",
       "      <td>5.0</td>\n",
       "    </tr>\n",
       "    <tr>\n",
       "      <th>6</th>\n",
       "      <td>Pepsi</td>\n",
       "      <td>NaN</td>\n",
       "      <td>87</td>\n",
       "      <td>32.0</td>\n",
       "    </tr>\n",
       "    <tr>\n",
       "      <th>7</th>\n",
       "      <td>Guarana</td>\n",
       "      <td>NaN</td>\n",
       "      <td>32</td>\n",
       "      <td>NaN</td>\n",
       "    </tr>\n",
       "  </tbody>\n",
       "</table>\n",
       "</div>"
      ],
      "text/plain": [
       "          Produto  Quant 21-11-2021  22-11-2021\n",
       "0            Bala  654.0        323        32.0\n",
       "1        Pirulito    NaN        435       123.0\n",
       "2      Salgadinho    NaN         34       321.0\n",
       "3         Bolacha    NaN         54       645.0\n",
       "4  Doce de Banana    NaN         76        87.0\n",
       "5       Coca-Cola    NaN         45         5.0\n",
       "6           Pepsi    NaN         87        32.0\n",
       "7         Guarana    NaN         32         NaN"
      ]
     },
     "execution_count": 137,
     "metadata": {},
     "output_type": "execute_result"
    }
   ],
   "source": [
    "#cadastro de produtos\n",
    "print(\"Seja bem vindo ao controle de estoque da H.F.A\")\n",
    "\n",
    "#Declaração das variaveis\n",
    "continuar = True\n",
    "dia = datetime.today().strftime('%d-%m-%Y') #pega a data atual\n",
    "prod = []\n",
    "#quant = []\n",
    "data = []\n",
    "\n",
    "oldBanco = pd.read_csv('banco.csv', index_col=0, header=0) #backup do \"banco de dados\"\n",
    "\n",
    "#criação de novos pordutos\n",
    "while continuar == True:\n",
    "    prod.append(input(\"Nome do Produto: \"))\n",
    "    data.append(input(\"Estoque Atual: \")) \n",
    "    #quant.append(input(\"Valor Original: \")) \n",
    "    escolha = input(\"Desenha continuar: (s/n)\")\n",
    "    if escolha == \"n\":\n",
    "        continuar = False\n",
    "        break\n",
    "    else:\n",
    "        continuar = True\n",
    "\n",
    "\n",
    "d = {'Produto':prod, dia:data} # dicionário\n",
    "atuBanco = pd.DataFrame(d)\n",
    "\n",
    "newBanco = pd.concat([oldBanco, atuBanco], axis=0, ignore_index=True, sort=False)\n",
    "newBanco.to_csv('banco.csv')\n",
    "newBanco"
   ]
  },
  {
   "cell_type": "code",
   "execution_count": 136,
   "id": "0f40a744",
   "metadata": {},
   "outputs": [
    {
     "name": "stdout",
     "output_type": "stream",
     "text": [
      "Qual a quantidade atual do Produto  Bala : \n",
      "Qual a quantidade atual do Produto  Pirulito : \n",
      "Qual a quantidade atual do Produto  Salgadinho : \n",
      "Qual a quantidade atual do Produto  Bolacha : \n",
      "Qual a quantidade atual do Produto  Doce de Banana : \n",
      "Qual a quantidade atual do Produto  Coca-Cola : \n",
      "Qual a quantidade atual do Produto  Pepsi : \n"
     ]
    }
   ],
   "source": [
    "#Atualizar dia\n",
    "oldBanco = pd.read_csv('banco.csv', index_col=0, header=0)\n",
    "dia = datetime.today().strftime('%d-%m-%Y')\n",
    "\n",
    "atuEstoque=[]\n",
    "for i in range(oldBanco.Produto.count()):\n",
    "   print(\"Qual a quantidade atual do Produto \", oldBanco.Produto[i], \": \")\n",
    "   atuEstoque.append(input())\n",
    "\n",
    "oldBanco.loc[:,dia] = atuEstoque\n",
    "oldBanco.to_csv('banco.csv')\n"
   ]
  }
 ],
 "metadata": {
  "kernelspec": {
   "display_name": "Python 3",
   "language": "python",
   "name": "python3"
  },
  "language_info": {
   "codemirror_mode": {
    "name": "ipython",
    "version": 3
   },
   "file_extension": ".py",
   "mimetype": "text/x-python",
   "name": "python",
   "nbconvert_exporter": "python",
   "pygments_lexer": "ipython3",
   "version": "3.8.8"
  }
 },
 "nbformat": 4,
 "nbformat_minor": 5
}
