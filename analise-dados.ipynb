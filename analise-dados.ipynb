{
 "cells": [
  {
   "cell_type": "code",
   "execution_count": null,
   "id": "e36355dc",
   "metadata": {},
   "outputs": [],
   "source": [
    "import pandas as pd\n",
    "import glob\n",
    "from getpass import getpass\n",
    "\n",
    "confirmacao = False\n",
    "cont = 0\n",
    "\n",
    "all_files = glob.glob(\"file_name*.csv\")\n",
    "\n",
    "li = []\n",
    "\n",
    "#for filename in all_files:\n",
    "#    new = pd.read_csv(filename, index_col=0, header=0)\n",
    "#    li.append(new)\n",
    "\n",
    "#frame = pd.concat(li, axis=1, ignore_index=True)\n",
    "\n",
    "while confirmacao != True:\n",
    "\n",
    "\n",
    "    usuario = input(\"Usuario: \")\n",
    "    senha = getpass(\"Digite sua senha: \") #esconde a senha digitada\n",
    "    if usuario == \"admin\" and senha == \"admin\":\n",
    "        print(\"Acesso Permitido\")\n",
    "        print(\"\")\n",
    "        confirmacao = True\n",
    "    elif usuario != \"admin\" or senha != \"admin\":\n",
    "        print(\"usuario ou senha incorreto\")\n",
    "        print(\"\")\n",
    "        cont += 1\n",
    "    if cont == 3:\n",
    "        print(\"Acesso bloquado, tente novamente mais tarde\")\n",
    "        break\n",
    "\n",
    "if confirmacao == True:\n",
    "    print(\"Seja bem vindo ao controle de estoque da H.F.A\")\n",
    "   \n"
   ]
  },
  {
   "cell_type": "code",
   "execution_count": null,
   "id": "dbc284a0",
   "metadata": {},
   "outputs": [],
   "source": [
    "import pandas as pd\n",
    "import glob\n",
    "from getpass import getpass\n",
    "\n",
    "print(\"Seja bem vindo ao controle de estoque da H.F.A\")\n",
    "\n",
    "ts_nome = \"ts\"\n",
    "continuar = True\n",
    "\n",
    "banco = pd.read_csv('banco.csv')\n",
    "prod = banco.Produto\n",
    "quant = banco.Quant\n",
    "data = banco.data\n",
    "\n",
    "while continuar == True:\n",
    "    prod.append(input(\"prod: \"))\n",
    "    data.append(input(\"data: \"))\n",
    "    quant.append(input(\"quant: \"))\n",
    "\n",
    "    escolha = input(\"Desenha continuar: (s/n)\")\n",
    "    if escolha == \"n\":\n",
    "        continuar = False\n",
    "        break\n",
    "    else:\n",
    "        continuar = True\n",
    "\n",
    "#df1 = pd.DataFrame(frame)\n",
    "#df1.to_csv('file_name.csv',header=True)\n",
    "d = {'Produto':prod,'Quant':quant, 'data':data} # dicionário\n",
    "\n",
    "df = pd.DataFrame(d)\n",
    "df.to_csv('banco.csv')\n",
    "df"
   ]
  },
  {
   "cell_type": "code",
   "execution_count": null,
   "id": "98299b26",
   "metadata": {},
   "outputs": [],
   "source": [
    "import pandas as pd\n",
    "teste = pd.read_csv('banco.csv')\n",
    "coluna1 = teste.Produto\n",
    "coluna1\n",
    "\n",
    "coluna2 = teste.Quant\n",
    "coluna2"
   ]
  },
  {
   "cell_type": "code",
   "execution_count": null,
   "id": "ac7d151f",
   "metadata": {},
   "outputs": [],
   "source": [
    "d1 = {'Teste': coluna1, 'Sera': coluna2}\n",
    "df1 = pd.DataFrame(d1)\n",
    "df1"
   ]
  },
  {
   "cell_type": "code",
   "execution_count": null,
   "id": "a68bdfee",
   "metadata": {},
   "outputs": [],
   "source": []
  }
 ],
 "metadata": {
  "kernelspec": {
   "display_name": "Python 3",
   "language": "python",
   "name": "python3"
  },
  "language_info": {
   "codemirror_mode": {
    "name": "ipython",
    "version": 3
   },
   "file_extension": ".py",
   "mimetype": "text/x-python",
   "name": "python",
   "nbconvert_exporter": "python",
   "pygments_lexer": "ipython3",
   "version": "3.8.8"
  }
 },
 "nbformat": 4,
 "nbformat_minor": 5
}
